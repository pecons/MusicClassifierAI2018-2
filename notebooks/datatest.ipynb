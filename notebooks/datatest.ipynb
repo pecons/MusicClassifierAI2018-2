{
 "cells": [
  {
   "cell_type": "markdown",
   "metadata": {},
   "source": [
    "## Librerias"
   ]
  },
  {
   "cell_type": "code",
   "execution_count": 2,
   "metadata": {},
   "outputs": [
    {
     "name": "stderr",
     "output_type": "stream",
     "text": [
      "Using TensorFlow backend.\n"
     ]
    }
   ],
   "source": [
    "\n",
    "import pandas as pd\n",
    "import numpy as np\n",
    "import matplotlib.pyplot as plt\n",
    "from sklearn.model_selection import train_test_split\n",
    "from keras.models import model_from_json\n",
    "%matplotlib inline"
   ]
  },
  {
   "cell_type": "code",
   "execution_count": 3,
   "metadata": {},
   "outputs": [],
   "source": [
    "import tensorflow"
   ]
  },
  {
   "cell_type": "code",
   "execution_count": 4,
   "metadata": {},
   "outputs": [],
   "source": [
    "import keras"
   ]
  },
  {
   "cell_type": "code",
   "execution_count": 5,
   "metadata": {},
   "outputs": [
    {
     "data": {
      "text/html": [
       "<div>\n",
       "<style scoped>\n",
       "    .dataframe tbody tr th:only-of-type {\n",
       "        vertical-align: middle;\n",
       "    }\n",
       "\n",
       "    .dataframe tbody tr th {\n",
       "        vertical-align: top;\n",
       "    }\n",
       "\n",
       "    .dataframe thead th {\n",
       "        text-align: right;\n",
       "    }\n",
       "</style>\n",
       "<table border=\"1\" class=\"dataframe\">\n",
       "  <thead>\n",
       "    <tr style=\"text-align: right;\">\n",
       "      <th></th>\n",
       "      <th>filename</th>\n",
       "      <th>chroma_stft</th>\n",
       "      <th>rmse</th>\n",
       "      <th>spectral_centroid</th>\n",
       "      <th>spectral_bandwidth</th>\n",
       "      <th>rolloff</th>\n",
       "      <th>zero_crossing_rate</th>\n",
       "      <th>mfcc1</th>\n",
       "      <th>mfcc2</th>\n",
       "      <th>mfcc3</th>\n",
       "      <th>...</th>\n",
       "      <th>mfcc12</th>\n",
       "      <th>mfcc13</th>\n",
       "      <th>mfcc14</th>\n",
       "      <th>mfcc15</th>\n",
       "      <th>mfcc16</th>\n",
       "      <th>mfcc17</th>\n",
       "      <th>mfcc18</th>\n",
       "      <th>mfcc19</th>\n",
       "      <th>mfcc20</th>\n",
       "      <th>label</th>\n",
       "    </tr>\n",
       "  </thead>\n",
       "  <tbody>\n",
       "    <tr>\n",
       "      <th>0</th>\n",
       "      <td>blues.00000.au</td>\n",
       "      <td>0.349943</td>\n",
       "      <td>0.130225</td>\n",
       "      <td>1784.420446</td>\n",
       "      <td>2002.650192</td>\n",
       "      <td>3806.485316</td>\n",
       "      <td>0.083066</td>\n",
       "      <td>-113.596742</td>\n",
       "      <td>121.557302</td>\n",
       "      <td>-19.158825</td>\n",
       "      <td>...</td>\n",
       "      <td>8.810668</td>\n",
       "      <td>-3.667367</td>\n",
       "      <td>5.751690</td>\n",
       "      <td>-5.162761</td>\n",
       "      <td>0.750947</td>\n",
       "      <td>-1.691937</td>\n",
       "      <td>-0.409954</td>\n",
       "      <td>-2.300208</td>\n",
       "      <td>1.219928</td>\n",
       "      <td>blues</td>\n",
       "    </tr>\n",
       "    <tr>\n",
       "      <th>1</th>\n",
       "      <td>blues.00001.au</td>\n",
       "      <td>0.340983</td>\n",
       "      <td>0.095918</td>\n",
       "      <td>1529.835316</td>\n",
       "      <td>2038.617579</td>\n",
       "      <td>3548.820207</td>\n",
       "      <td>0.056044</td>\n",
       "      <td>-207.556796</td>\n",
       "      <td>124.006717</td>\n",
       "      <td>8.930562</td>\n",
       "      <td>...</td>\n",
       "      <td>5.376802</td>\n",
       "      <td>-2.239119</td>\n",
       "      <td>4.216963</td>\n",
       "      <td>-6.012273</td>\n",
       "      <td>0.936109</td>\n",
       "      <td>-0.716537</td>\n",
       "      <td>0.293875</td>\n",
       "      <td>-0.287431</td>\n",
       "      <td>0.531573</td>\n",
       "      <td>blues</td>\n",
       "    </tr>\n",
       "    <tr>\n",
       "      <th>2</th>\n",
       "      <td>blues.00002.au</td>\n",
       "      <td>0.363603</td>\n",
       "      <td>0.175573</td>\n",
       "      <td>1552.481958</td>\n",
       "      <td>1747.165985</td>\n",
       "      <td>3040.514948</td>\n",
       "      <td>0.076301</td>\n",
       "      <td>-90.754394</td>\n",
       "      <td>140.459907</td>\n",
       "      <td>-29.109965</td>\n",
       "      <td>...</td>\n",
       "      <td>5.789265</td>\n",
       "      <td>-8.905224</td>\n",
       "      <td>-1.083720</td>\n",
       "      <td>-9.218359</td>\n",
       "      <td>2.455805</td>\n",
       "      <td>-7.726901</td>\n",
       "      <td>-1.815724</td>\n",
       "      <td>-3.433434</td>\n",
       "      <td>-2.226821</td>\n",
       "      <td>blues</td>\n",
       "    </tr>\n",
       "    <tr>\n",
       "      <th>3</th>\n",
       "      <td>blues.00003.au</td>\n",
       "      <td>0.404779</td>\n",
       "      <td>0.141191</td>\n",
       "      <td>1070.119953</td>\n",
       "      <td>1596.333948</td>\n",
       "      <td>2185.028454</td>\n",
       "      <td>0.033309</td>\n",
       "      <td>-199.431144</td>\n",
       "      <td>150.099218</td>\n",
       "      <td>5.647594</td>\n",
       "      <td>...</td>\n",
       "      <td>6.087676</td>\n",
       "      <td>-2.476420</td>\n",
       "      <td>-1.073890</td>\n",
       "      <td>-2.874777</td>\n",
       "      <td>0.780976</td>\n",
       "      <td>-3.316932</td>\n",
       "      <td>0.637981</td>\n",
       "      <td>-0.619690</td>\n",
       "      <td>-3.408233</td>\n",
       "      <td>blues</td>\n",
       "    </tr>\n",
       "    <tr>\n",
       "      <th>4</th>\n",
       "      <td>blues.00004.au</td>\n",
       "      <td>0.308590</td>\n",
       "      <td>0.091563</td>\n",
       "      <td>1835.494603</td>\n",
       "      <td>1748.362448</td>\n",
       "      <td>3580.945013</td>\n",
       "      <td>0.101500</td>\n",
       "      <td>-160.266031</td>\n",
       "      <td>126.198800</td>\n",
       "      <td>-35.605448</td>\n",
       "      <td>...</td>\n",
       "      <td>-2.806385</td>\n",
       "      <td>-6.934122</td>\n",
       "      <td>-7.558619</td>\n",
       "      <td>-9.173552</td>\n",
       "      <td>-4.512166</td>\n",
       "      <td>-5.453538</td>\n",
       "      <td>-0.924162</td>\n",
       "      <td>-4.409333</td>\n",
       "      <td>-11.703781</td>\n",
       "      <td>blues</td>\n",
       "    </tr>\n",
       "  </tbody>\n",
       "</table>\n",
       "<p>5 rows × 28 columns</p>\n",
       "</div>"
      ],
      "text/plain": [
       "         filename  chroma_stft      rmse  spectral_centroid  \\\n",
       "0  blues.00000.au     0.349943  0.130225        1784.420446   \n",
       "1  blues.00001.au     0.340983  0.095918        1529.835316   \n",
       "2  blues.00002.au     0.363603  0.175573        1552.481958   \n",
       "3  blues.00003.au     0.404779  0.141191        1070.119953   \n",
       "4  blues.00004.au     0.308590  0.091563        1835.494603   \n",
       "\n",
       "   spectral_bandwidth      rolloff  zero_crossing_rate       mfcc1  \\\n",
       "0         2002.650192  3806.485316            0.083066 -113.596742   \n",
       "1         2038.617579  3548.820207            0.056044 -207.556796   \n",
       "2         1747.165985  3040.514948            0.076301  -90.754394   \n",
       "3         1596.333948  2185.028454            0.033309 -199.431144   \n",
       "4         1748.362448  3580.945013            0.101500 -160.266031   \n",
       "\n",
       "        mfcc2      mfcc3  ...    mfcc12    mfcc13    mfcc14    mfcc15  \\\n",
       "0  121.557302 -19.158825  ...  8.810668 -3.667367  5.751690 -5.162761   \n",
       "1  124.006717   8.930562  ...  5.376802 -2.239119  4.216963 -6.012273   \n",
       "2  140.459907 -29.109965  ...  5.789265 -8.905224 -1.083720 -9.218359   \n",
       "3  150.099218   5.647594  ...  6.087676 -2.476420 -1.073890 -2.874777   \n",
       "4  126.198800 -35.605448  ... -2.806385 -6.934122 -7.558619 -9.173552   \n",
       "\n",
       "     mfcc16    mfcc17    mfcc18    mfcc19     mfcc20  label  \n",
       "0  0.750947 -1.691937 -0.409954 -2.300208   1.219928  blues  \n",
       "1  0.936109 -0.716537  0.293875 -0.287431   0.531573  blues  \n",
       "2  2.455805 -7.726901 -1.815724 -3.433434  -2.226821  blues  \n",
       "3  0.780976 -3.316932  0.637981 -0.619690  -3.408233  blues  \n",
       "4 -4.512166 -5.453538 -0.924162 -4.409333 -11.703781  blues  \n",
       "\n",
       "[5 rows x 28 columns]"
      ]
     },
     "execution_count": 5,
     "metadata": {},
     "output_type": "execute_result"
    }
   ],
   "source": [
    "data = pd.read_csv('../data/data.csv')\n",
    "data.head()"
   ]
  },
  {
   "cell_type": "code",
   "execution_count": 6,
   "metadata": {},
   "outputs": [
    {
     "data": {
      "text/plain": [
       "(1000, 28)"
      ]
     },
     "execution_count": 6,
     "metadata": {},
     "output_type": "execute_result"
    }
   ],
   "source": [
    "data.shape"
   ]
  },
  {
   "cell_type": "code",
   "execution_count": null,
   "metadata": {},
   "outputs": [],
   "source": [
    "attributes = ['mfcc%d'%i for i in range(1,21)]\n",
    "pd.plotting.scatter_matrix(data[attributes], figsize=(12,8));\n"
   ]
  },
  {
   "cell_type": "code",
   "execution_count": null,
   "metadata": {},
   "outputs": [],
   "source": [
    "attributes2 = ['chroma_stft','rmse','spectral_centroid', 'spectral_bandwidth', 'rolloff','zero_crossing_rate']\n",
    "pd.plotting.scatter_matrix(data[attributes2], figsize=(12,8));"
   ]
  },
  {
   "cell_type": "markdown",
   "metadata": {},
   "source": [
    "## PREPROCESSING\n",
    "\n"
   ]
  },
  {
   "cell_type": "code",
   "execution_count": 7,
   "metadata": {},
   "outputs": [],
   "source": [
    "from sklearn import preprocessing\n"
   ]
  },
  {
   "cell_type": "code",
   "execution_count": 8,
   "metadata": {},
   "outputs": [],
   "source": [
    "labels = data.iloc[:, -1]\n",
    "encoder = preprocessing.LabelEncoder()\n"
   ]
  },
  {
   "cell_type": "code",
   "execution_count": 9,
   "metadata": {},
   "outputs": [
    {
     "name": "stdout",
     "output_type": "stream",
     "text": [
      "(1000,) [0 1 2 3 4 5 6 7 8 9]\n"
     ]
    }
   ],
   "source": [
    "y = encoder.fit_transform(labels)#se obtienen los labels \n",
    "print(y.shape,np.unique(y))"
   ]
  },
  {
   "cell_type": "code",
   "execution_count": 10,
   "metadata": {},
   "outputs": [],
   "source": [
    "# Dropping de columnas inncesarias\n",
    "data = data.drop(['filename'],axis=1)"
   ]
  },
  {
   "cell_type": "code",
   "execution_count": 11,
   "metadata": {},
   "outputs": [],
   "source": [
    "scaler = preprocessing.StandardScaler()#Se estandarizan las caracteristicas Z=(x-u)/s\n",
    "X = scaler.fit_transform(np.array(data.iloc[:, :-1], dtype = float))"
   ]
  },
  {
   "cell_type": "code",
   "execution_count": 22,
   "metadata": {},
   "outputs": [
    {
     "data": {
      "text/plain": [
       "array([[-3.51748622e-01, -1.07229841e-02, -5.83303337e-01,\n",
       "        -4.56037034e-01, -4.86166057e-01, -4.91966558e-01,\n",
       "         3.08252406e-01,  7.02673975e-01, -4.72089912e-01,\n",
       "         3.63652865e-01, -4.28097656e-01,  3.36698995e-01,\n",
       "        -8.62289886e-01,  4.99553068e-01, -6.38827279e-01,\n",
       "         4.09659355e-01, -3.37930649e-01,  6.46275693e-01,\n",
       "         1.83186590e-01,  7.92921116e-01, -2.65289349e-01,\n",
       "        -8.67504224e-02,  5.00287206e-01, -2.37191577e-01,\n",
       "         7.61145087e-03,  6.03498128e-01],\n",
       "       [-4.61465781e-01, -5.33266150e-01, -9.39066284e-01,\n",
       "        -3.87667644e-01, -6.49868713e-01, -1.13821966e+00,\n",
       "        -6.29608118e-01,  7.80889484e-01,  8.23297118e-01,\n",
       "        -2.51147670e-02,  3.32557120e-01,  5.82147213e-01,\n",
       "        -3.44690968e-01,  1.26579763e+00, -3.75344267e-01,\n",
       "         5.26025865e-01,  6.75997471e-02,  1.34823435e-01,\n",
       "         4.14750611e-01,  4.86403784e-01, -4.39656016e-01,\n",
       "        -4.62939579e-02,  7.14737546e-01, -5.51897790e-02,\n",
       "         5.43823597e-01,  4.24035279e-01],\n",
       "       [-1.84483987e-01,  6.80012088e-01, -9.07419360e-01,\n",
       "        -9.41679735e-01, -9.72810852e-01, -6.53771611e-01,\n",
       "         5.36252880e-01,  1.30627800e+00, -9.31002702e-01,\n",
       "        -2.76375814e-01, -1.05107602e+00,  9.39652859e-01,\n",
       "        -8.57426589e-01,  1.44317381e-01, -5.77876251e-01,\n",
       "         2.49078644e-01, -1.04201868e+00,  1.96257114e-01,\n",
       "        -6.66035070e-01, -5.72254142e-01, -1.09772150e+00,\n",
       "         2.85748106e-01, -8.26552608e-01, -6.00707069e-01,\n",
       "        -2.94284642e-01, -2.95112778e-01],\n",
       "       [ 3.19725144e-01,  1.56316706e-01, -1.58148280e+00,\n",
       "        -1.22839209e+00, -1.51632802e+00, -1.68195044e+00,\n",
       "        -5.48502078e-01,  1.61408355e+00,  6.71897822e-01,\n",
       "        -5.65540102e-01,  2.37474184e-01, -3.34383098e-02,\n",
       "         3.00645845e-02, -7.85851556e-02,  7.53379422e-01,\n",
       "         5.27805851e-02,  4.14461486e-01,  2.40703521e-01,\n",
       "         3.76276616e-01, -5.70290965e-01,  2.04331072e-01,\n",
       "        -8.01891650e-02,  1.43017809e-01,  3.37918743e-02,\n",
       "         4.55308397e-01, -6.03121675e-01],\n",
       "       [-8.58123993e-01, -5.99603527e-01, -5.11931170e-01,\n",
       "        -9.39405412e-01, -6.29458825e-01, -5.11106066e-02,\n",
       "        -1.57576233e-01,  8.50887785e-01, -1.23055231e+00,\n",
       "        -8.48793912e-01, -2.56561143e+00, -3.18513628e-01,\n",
       "        -1.83444869e+00, -9.19484751e-01, -5.80924817e-01,\n",
       "        -8.22213368e-01, -1.03625381e+00, -1.08400950e+00,\n",
       "        -3.46457292e-01, -1.86542760e+00, -1.08852471e+00,\n",
       "        -1.23670011e+00, -3.26733782e-01, -3.70159653e-01,\n",
       "        -5.54267933e-01, -2.76587524e+00],\n",
       "       [-9.34579178e-01, -4.18279329e-01, -5.16895143e-01,\n",
       "        -9.75292363e-01, -6.92996845e-01, -2.29528199e-01,\n",
       "        -3.33280418e-01,  5.95369062e-01, -3.97927410e-01,\n",
       "        -3.32225465e-01, -1.68593436e+00, -2.30697807e-01,\n",
       "        -1.57040843e+00, -6.63483491e-01, -1.91754216e-01,\n",
       "        -1.09235324e+00, -8.44407828e-01, -1.02655154e+00,\n",
       "        -7.36422884e-01, -2.34090475e+00, -8.13151619e-03,\n",
       "        -1.46796525e+00,  4.67949068e-01, -8.49649158e-01,\n",
       "        -1.91301312e-01, -1.83044581e+00],\n",
       "       [-1.06974657e+00,  1.65526265e-01, -1.03794346e+00,\n",
       "        -1.62267211e+00, -1.12840250e+00, -7.32043969e-01,\n",
       "        -4.55857218e-01,  9.81751241e-01, -1.26461818e+00,\n",
       "        -1.96895431e-01,  1.00303858e+00, -1.28849987e+00,\n",
       "        -1.58326595e+00, -9.41764969e-01,  6.11098374e-02,\n",
       "        -1.66969149e+00, -2.66917849e-01, -1.13156624e+00,\n",
       "        -2.91169792e-01, -2.34149248e+00, -5.47404830e-01,\n",
       "        -2.44989816e+00, -1.52686215e+00, -1.93418278e+00,\n",
       "        -2.98440303e-01, -1.40801366e+00],\n",
       "       [-8.66317380e-01,  1.30515048e-02, -1.04817865e+00,\n",
       "        -1.26444028e+00, -1.02691956e+00, -1.00929623e+00,\n",
       "        -3.48516137e-01,  1.17852756e+00, -8.17850716e-01,\n",
       "         2.21804526e-01,  5.26856052e-01, -3.13451069e-01,\n",
       "        -1.55306262e+00, -1.53564763e-01, -5.26707318e-01,\n",
       "        -1.41156016e+00, -3.51169522e-01, -1.70189325e+00,\n",
       "         2.03101529e-01, -1.96381491e+00, -1.04459693e+00,\n",
       "        -2.09147952e+00, -1.44918905e+00, -2.92087238e+00,\n",
       "        -6.30037517e-01, -1.96674746e+00],\n",
       "       [ 3.71866615e-01,  1.75309379e-01, -6.74425452e-01,\n",
       "        -4.00923745e-01, -5.02155126e-01, -9.47292954e-01,\n",
       "         2.30753376e-01,  7.33195329e-01, -2.68406954e-01,\n",
       "         5.91307289e-01, -5.74529540e-01,  4.68314318e-01,\n",
       "        -1.41323598e+00,  1.23682165e+00, -5.83904438e-01,\n",
       "         1.69482561e+00, -1.02715692e-01,  3.78218488e-01,\n",
       "        -1.28807021e+00,  6.55975291e-01, -2.67899489e-01,\n",
       "        -5.66334786e-01, -6.74887171e-01,  5.66346474e-01,\n",
       "         1.52878327e+00, -4.18046935e-01],\n",
       "       [-1.28157297e+00, -7.55137851e-01, -5.37054332e-01,\n",
       "        -5.10993367e-01, -3.98512073e-01, -5.84067635e-01,\n",
       "        -6.85744040e-01,  4.98163172e-01, -1.28864331e-01,\n",
       "         1.64263457e-01, -1.57215404e+00, -1.31110651e-01,\n",
       "        -4.06963148e-01, -1.05530482e-01, -8.57745084e-01,\n",
       "        -4.35098375e-01, -2.71039394e-03, -1.02299449e-01,\n",
       "         8.14370389e-01, -1.37711363e+00,  7.09610486e-01,\n",
       "        -5.09639031e-01,  4.49988563e-01, -7.24313395e-01,\n",
       "         1.39064151e+00, -8.18201997e-01]])"
      ]
     },
     "execution_count": 22,
     "metadata": {},
     "output_type": "execute_result"
    }
   ],
   "source": [
    "X[0:10][:]"
   ]
  },
  {
   "cell_type": "code",
   "execution_count": 20,
   "metadata": {},
   "outputs": [],
   "source": [
    "#guardamos los valores de las medias y desviaciones estándar\n",
    "np.save(\"medias\", scaler.mean_)\n",
    "np.save(\"desvest\", scaler.scale_)"
   ]
  },
  {
   "cell_type": "code",
   "execution_count": 14,
   "metadata": {},
   "outputs": [
    {
     "data": {
      "text/plain": [
       "(1000, 27)"
      ]
     },
     "execution_count": 14,
     "metadata": {},
     "output_type": "execute_result"
    }
   ],
   "source": [
    "data.shape"
   ]
  },
  {
   "cell_type": "code",
   "execution_count": 15,
   "metadata": {},
   "outputs": [
    {
     "name": "stdout",
     "output_type": "stream",
     "text": [
      "(1000, 26) (1000,)\n"
     ]
    }
   ],
   "source": [
    "print(X.shape,y.shape)"
   ]
  },
  {
   "cell_type": "code",
   "execution_count": 16,
   "metadata": {},
   "outputs": [],
   "source": [
    "\n",
    "X_train, X_test, y_train, y_test = train_test_split(X, y, test_size=0.2)"
   ]
  },
  {
   "cell_type": "markdown",
   "metadata": {},
   "source": [
    "## USING KERAS"
   ]
  },
  {
   "cell_type": "code",
   "execution_count": 16,
   "metadata": {},
   "outputs": [
    {
     "name": "stdout",
     "output_type": "stream",
     "text": [
      "WARNING:tensorflow:From D:\\Program Files\\WPy64-3720\\python-3.7.2.amd64\\lib\\site-packages\\tensorflow\\python\\framework\\op_def_library.py:263: colocate_with (from tensorflow.python.framework.ops) is deprecated and will be removed in a future version.\n",
      "Instructions for updating:\n",
      "Colocations handled automatically by placer.\n"
     ]
    }
   ],
   "source": [
    "from keras import models\n",
    "from keras import layers\n",
    "\n",
    "model = models.Sequential()\n",
    "model.add(layers.Dense(256, activation='relu', input_shape=(X_train.shape[1],)))\n",
    "\n",
    "model.add(layers.Dense(128, activation='relu'))\n",
    "\n",
    "model.add(layers.Dense(64, activation='relu'))\n",
    "\n",
    "model.add(layers.Dense(10, activation='softmax'))"
   ]
  },
  {
   "cell_type": "code",
   "execution_count": 17,
   "metadata": {},
   "outputs": [],
   "source": [
    "model.compile(optimizer='adam',\n",
    "              loss='sparse_categorical_crossentropy',\n",
    "              metrics=['accuracy'])"
   ]
  },
  {
   "cell_type": "code",
   "execution_count": 18,
   "metadata": {},
   "outputs": [
    {
     "name": "stdout",
     "output_type": "stream",
     "text": [
      "WARNING:tensorflow:From D:\\Program Files\\WPy64-3720\\python-3.7.2.amd64\\lib\\site-packages\\tensorflow\\python\\ops\\math_ops.py:3066: to_int32 (from tensorflow.python.ops.math_ops) is deprecated and will be removed in a future version.\n",
      "Instructions for updating:\n",
      "Use tf.cast instead.\n",
      "Epoch 1/20\n",
      "800/800 [==============================] - 1s 1ms/step - loss: 2.2089 - acc: 0.2137\n",
      "Epoch 2/20\n",
      "800/800 [==============================] - 0s 25us/step - loss: 1.8799 - acc: 0.3337\n",
      "Epoch 3/20\n",
      "800/800 [==============================] - 0s 26us/step - loss: 1.6664 - acc: 0.3663\n",
      "Epoch 4/20\n",
      "800/800 [==============================] - 0s 26us/step - loss: 1.4917 - acc: 0.4688\n",
      "Epoch 5/20\n",
      "800/800 [==============================] - 0s 20us/step - loss: 1.3483 - acc: 0.5487\n",
      "Epoch 6/20\n",
      "800/800 [==============================] - 0s 24us/step - loss: 1.2340 - acc: 0.5875\n",
      "Epoch 7/20\n",
      "800/800 [==============================] - 0s 22us/step - loss: 1.1226 - acc: 0.6337\n",
      "Epoch 8/20\n",
      "800/800 [==============================] - 0s 20us/step - loss: 1.0472 - acc: 0.6575\n",
      "Epoch 9/20\n",
      "800/800 [==============================] - 0s 22us/step - loss: 0.9793 - acc: 0.6763\n",
      "Epoch 10/20\n",
      "800/800 [==============================] - 0s 19us/step - loss: 0.9167 - acc: 0.7013\n",
      "Epoch 11/20\n",
      "800/800 [==============================] - 0s 20us/step - loss: 0.8700 - acc: 0.7188\n",
      "Epoch 12/20\n",
      "800/800 [==============================] - 0s 22us/step - loss: 0.8280 - acc: 0.7325\n",
      "Epoch 13/20\n",
      "800/800 [==============================] - 0s 27us/step - loss: 0.7784 - acc: 0.7550\n",
      "Epoch 14/20\n",
      "800/800 [==============================] - 0s 21us/step - loss: 0.7396 - acc: 0.7725\n",
      "Epoch 15/20\n",
      "800/800 [==============================] - 0s 22us/step - loss: 0.7003 - acc: 0.7838\n",
      "Epoch 16/20\n",
      "800/800 [==============================] - 0s 24us/step - loss: 0.6821 - acc: 0.7750\n",
      "Epoch 17/20\n",
      "800/800 [==============================] - 0s 26us/step - loss: 0.6467 - acc: 0.7913\n",
      "Epoch 18/20\n",
      "800/800 [==============================] - 0s 25us/step - loss: 0.6181 - acc: 0.8025\n",
      "Epoch 19/20\n",
      "800/800 [==============================] - 0s 27us/step - loss: 0.5863 - acc: 0.8237\n",
      "Epoch 20/20\n",
      "800/800 [==============================] - 0s 25us/step - loss: 0.5606 - acc: 0.8225\n"
     ]
    }
   ],
   "source": [
    "history = model.fit(X_train,\n",
    "                    y_train,\n",
    "                    epochs=20,\n",
    "                    batch_size=128)"
   ]
  },
  {
   "cell_type": "code",
   "execution_count": 36,
   "metadata": {},
   "outputs": [
    {
     "name": "stdout",
     "output_type": "stream",
     "text": [
      "200/200 [==============================] - 0s 20us/step\n"
     ]
    }
   ],
   "source": [
    "test_loss, test_acc = model.evaluate(X_test,y_test)"
   ]
  },
  {
   "cell_type": "code",
   "execution_count": 37,
   "metadata": {},
   "outputs": [
    {
     "name": "stdout",
     "output_type": "stream",
     "text": [
      "test_acc:  0.675\n"
     ]
    }
   ],
   "source": [
    "print('test_acc: ',test_acc)"
   ]
  },
  {
   "cell_type": "code",
   "execution_count": 25,
   "metadata": {},
   "outputs": [
    {
     "name": "stdout",
     "output_type": "stream",
     "text": [
      "Saved model to disk\n"
     ]
    }
   ],
   "source": [
    "# serialize model to JSON\n",
    "model_json = model.to_json()\n",
    "with open(\"model.json\", \"w\") as json_file:\n",
    "    json_file.write(model_json)\n",
    "    # serialize weights to HDF5\n",
    "model.save_weights(\"model.h5\")\n",
    "print(\"Saved model to disk\")"
   ]
  },
  {
   "cell_type": "code",
   "execution_count": 38,
   "metadata": {},
   "outputs": [
    {
     "data": {
      "text/plain": [
       "'\\n# load json and create model\\njson_file = open(\\'model.json\\', \\'r\\')\\nloaded_model_json = json_file.read()\\njson_file.close()\\nloaded_model = model_from_json(loaded_model_json)\\n# load weights into new model\\nloaded_model.load_weights(\"model.h5\")\\nprint(\"Loaded model from disk\")\\n'"
      ]
     },
     "execution_count": 38,
     "metadata": {},
     "output_type": "execute_result"
    }
   ],
   "source": [
    "\"\"\"\n",
    "\n",
    "# load json and create model\n",
    "json_file = open('model.json', 'r')\n",
    "loaded_model_json = json_file.read()\n",
    "json_file.close()\n",
    "loaded_model = model_from_json(loaded_model_json)\n",
    "# load weights into new model\n",
    "loaded_model.load_weights(\"model.h5\")\n",
    "print(\"Loaded model from disk\")\n",
    "\n",
    "\"\"\""
   ]
  },
  {
   "cell_type": "code",
   "execution_count": 28,
   "metadata": {},
   "outputs": [],
   "source": [
    "\"\"\"\n",
    "\n",
    "#compiling the loaded model\n",
    "loaded_model.compile(optimizer='adam',\n",
    "              loss='sparse_categorical_crossentropy',\n",
    "              metrics=['accuracy'])\n",
    "              \n",
    "\"\"\""
   ]
  },
  {
   "cell_type": "code",
   "execution_count": 34,
   "metadata": {},
   "outputs": [
    {
     "name": "stdout",
     "output_type": "stream",
     "text": [
      "200/200 [==============================] - 0s 25us/step\n"
     ]
    }
   ],
   "source": [
    "\"\"\"\n",
    "\n",
    "#evaluating the loaded model\n",
    "test_loss, test_acc = loaded_model.evaluate(X_test,y_test)\n",
    "\n",
    "\"\"\""
   ]
  },
  {
   "cell_type": "code",
   "execution_count": 35,
   "metadata": {},
   "outputs": [
    {
     "name": "stdout",
     "output_type": "stream",
     "text": [
      "test_acc:  0.675\n"
     ]
    }
   ],
   "source": [
    "\"\"\"\n",
    "\n",
    "print('test_acc: ',test_acc)\n",
    "\n",
    "\"\"\""
   ]
  },
  {
   "cell_type": "code",
   "execution_count": 1,
   "metadata": {},
   "outputs": [
    {
     "ename": "NameError",
     "evalue": "name 'X_train' is not defined",
     "output_type": "error",
     "traceback": [
      "\u001b[1;31m---------------------------------------------------------------------------\u001b[0m",
      "\u001b[1;31mNameError\u001b[0m                                 Traceback (most recent call last)",
      "\u001b[1;32m<ipython-input-1-d2ba684acd0f>\u001b[0m in \u001b[0;36m<module>\u001b[1;34m\u001b[0m\n\u001b[1;32m----> 1\u001b[1;33m \u001b[0mX_train\u001b[0m\u001b[1;33m.\u001b[0m\u001b[0mshape\u001b[0m\u001b[1;33m\u001b[0m\u001b[1;33m\u001b[0m\u001b[0m\n\u001b[0m",
      "\u001b[1;31mNameError\u001b[0m: name 'X_train' is not defined"
     ]
    }
   ],
   "source": []
  },
  {
   "cell_type": "code",
   "execution_count": null,
   "metadata": {},
   "outputs": [],
   "source": []
  }
 ],
 "metadata": {
  "kernelspec": {
   "display_name": "Python 3",
   "language": "python",
   "name": "python3"
  },
  "language_info": {
   "codemirror_mode": {
    "name": "ipython",
    "version": 3
   },
   "file_extension": ".py",
   "mimetype": "text/x-python",
   "name": "python",
   "nbconvert_exporter": "python",
   "pygments_lexer": "ipython3",
   "version": "3.7.2"
  }
 },
 "nbformat": 4,
 "nbformat_minor": 2
}
